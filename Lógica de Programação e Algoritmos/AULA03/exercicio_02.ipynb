{
 "cells": [
  {
   "cell_type": "markdown",
   "metadata": {},
   "source": [
    "### Escreva as seguintes expressões booleanas em linguagem Python"
   ]
  },
  {
   "cell_type": "code",
   "execution_count": null,
   "metadata": {},
   "outputs": [],
   "source": [
    "# A - O somatório de 2 com 2 é menor que 4\n",
    "resposta_a = 2 + 2 < 4\n",
    "print(f'O resultado da pergunta A é: {resposta_a}')\n",
    "\n",
    "# B - O valor 7 // 3 é igual a 1 + 1\n",
    "resposta_b = 7 // 3 == 1 + 1\n",
    "print(f'O resultado da pergunta B é: {resposta_b}')\n",
    "\n",
    "# C - A soma de 3 elevado ao quadrado com 4 elevado ao quadrado é igual a 25\n",
    "resposta_c = 3 ** 2 + 4 ** 2 == 25\n",
    "print(f'O resultado da pergunta C é: {resposta_c}')\n",
    "\n",
    "# D - A soma de 2, 4 e 6 é maior que 12\n",
    "resposta_d = 2 + 4 + 6 > 12\n",
    "print(f'O resultado da pergunta D é: {resposta_d}')\n",
    "\n",
    "# E - 1387 é divisível por 19\n",
    "resposta_e = 1387 % 19 == 0\n",
    "print(f'O resultado da pergunta E é: {resposta_e}')\n",
    "\n",
    "# F - 31 é par\n",
    "resposta_f = 31 % 2 == 0\n",
    "print(f'O resultado da pergunta F é: {resposta_f}')\n",
    "\n",
    "# G - O menor valor entre: 34, 29 e 31 é menor que 30\n",
    "resposta_g = min(34, 29, 31) < 30\n",
    "print(f'O resultado da pergunta G é: {resposta_g}')"
   ]
  },
  {
   "cell_type": "markdown",
   "metadata": {},
   "source": [
    "### Condicional SIMPLES"
   ]
  },
  {
   "cell_type": "code",
   "execution_count": null,
   "metadata": {},
   "outputs": [],
   "source": [
    "# A - Se a idade é maior que 60, escreva: \"Você tem direito aos benefícios\"\n",
    "idade = 61\n",
    "if idade > 60:\n",
    "    print(\"Você tem direito aos benefícios\")"
   ]
  },
  {
   "cell_type": "code",
   "execution_count": null,
   "metadata": {},
   "outputs": [],
   "source": [
    "# B - Se dano é maior que 10 e escudo é igual a 0, escreva: \"Você está morto!\"\n",
    "dano, escudo = 12, 0\n",
    "if dano > 10 and escudo == 0:\n",
    "    print('Você está morto!') "
   ]
  },
  {
   "cell_type": "code",
   "execution_count": null,
   "metadata": {},
   "outputs": [],
   "source": [
    "# C - Se pelo menos uma das variáveis booleanas norte, sul, leste e oeste resultarem em True, escreva: \"Você escapou!\"\n",
    "norte, sul, leste, oeste = True, False, False, False\n",
    "if norte or sul or leste or oeste == True:\n",
    "    print('Você escapou!')"
   ]
  },
  {
   "cell_type": "markdown",
   "metadata": {},
   "source": [
    "### Condicional COMPOSTA"
   ]
  },
  {
   "cell_type": "code",
   "execution_count": null,
   "metadata": {},
   "outputs": [],
   "source": [
    "# Se ano é divisível por 4, escreva: \"Pode ser um ano bissexto\". Caso contrário, escreva: \"Definitivamente não é um ano bissexto\"\n",
    "ano = 1912\n",
    "if ano % 4 == 0:\n",
    "    print('Pode ser um ano bissexto.')\n",
    "else:\n",
    "    print('Definitivamente não é um ano bissexto.')"
   ]
  },
  {
   "cell_type": "code",
   "execution_count": null,
   "metadata": {},
   "outputs": [],
   "source": [
    "# Se ambas as variáveis booleanas cima e baixo forem True, escreva: \"Decida-se\", caso contrário, escreva: \"Você escolheu um caminho!\"\n",
    "cima, baixo = True, False\n",
    "if cima and baixo == True:\n",
    "    print('Decida-se')\n",
    "else:\n",
    "    print('Você escolheu um caminho!')"
   ]
  },
  {
   "cell_type": "markdown",
   "metadata": {},
   "source": [
    "# EXERCÍCIO - AULA 02"
   ]
  },
  {
   "cell_type": "code",
   "execution_count": null,
   "metadata": {},
   "outputs": [],
   "source": [
    "# Exercício 01 - Faça um algoritmo que receba três valores, representando os lados de um triângulo fonecidos pelo usuário. Verifique se os valores formam um triângulo e classifique como: A) Equilátero (três lados iguais), B) Isósceles (dois lados iguais), C) Escaleno (três lados diferentes)\n",
    "\n",
    "lado_a = float(input('Digite o valor do lado A: '))\n",
    "lado_b = float(input('Digite o valor do lado B: '))\n",
    "lado_c = float(input('Digite o valor do lado C: '))\n",
    "\n",
    "if lado_a and lado_b and lado_c > 0 and lado_a < lado_b + lado_c and lado_b < lado_c + lado_a and lado_c < lado_a + lado_b:\n",
    "    if lado_a == lado_b and lado_b == lado_c:\n",
    "        print('Triângulo Equilátero')\n",
    "    elif lado_a != lado_b and lado_b != lado_c and lado_c != lado_a:\n",
    "        print('Triângulo Escaleno')\n",
    "    else:\n",
    "        print('Triângulo Isósceles')\n",
    "else:\n",
    "    print('Valores invalidos')"
   ]
  },
  {
   "cell_type": "code",
   "execution_count": null,
   "metadata": {},
   "outputs": [],
   "source": [
    "# Exercício 02 -  Escreva um algoritmo que leia dois valores numéricos e que pergunte ao usuário qual operção ele deseja realizar: adição (+), subtração (-), multiplicação (*) ou divisão (/). Exiba na tela o resultado da operação desejada.\n",
    "\n",
    "print(' ESCOLHA QUAL OPERAÇÃO ARITMÉTICA \\n Para adição escolha: +\\n Para subtração escolha: -\\n Para multiplicação escolha: *\\n Para divisão escolha: / ')\n",
    "\n",
    "num1 = float(input('Digite o valor do primeiro número: '))\n",
    "operador = input('Digite qual o operador aritmético: ')\n",
    "num2 = float(input('Digite o valor do segundo número: '))\n",
    "\n",
    "if operador == '+':\n",
    "    print(40 * '-')\n",
    "    print(f'O resultado entre {num1} {operador} {num2} é {num1 + num2}')\n",
    "elif operador == '-':\n",
    "    print(40 * '-')\n",
    "    print(f'O resultado entre {num1} {operador} {num2} é {num1 - num2}')\n",
    "elif operador == '*':\n",
    "    print(40 * '-')\n",
    "    print(f'O resultado entre {num1} {operador} {num2} é {num1 * num2}')\n",
    "elif operador == '/':\n",
    "    print(40 * '-')\n",
    "    print(f'O resultado entre {num1} {operador} {num2} é {num1 / num2}')\n",
    "else:\n",
    "    print('Operador invalido')\n"
   ]
  },
  {
   "cell_type": "code",
   "execution_count": null,
   "metadata": {},
   "outputs": [],
   "source": [
    "# Escreva um programa que calcule o preço a pagar pelo fornecimento de energia elétrica. Pergunte a quantidade de kWh consumida e o tipo de instalação: R para residenciais, I para indústrias e C para comércios.\n",
    "\n",
    "# RESIDENCIAL  - faixa < 500 - 0.40 ou faixa > 500 - 0.65 \n",
    "# COMERCIAL    - faixa < 1000 - 0.55 ou faixa > 1000 - 0.60 \n",
    "# INDUSTRIAL   - faixa < 5000 - 0.55 ou faixa > 5000 - 0.60 \n",
    "\n",
    "tipo_instalacao = input('RESIDENCIAL ( R ) | \\nCOMERCIAL ( C ) | \\nINDUSTRIAL ( I ) | \\n Selecione o tipo de instalação: ').lower()\n",
    "quantidade_consumo = float(input('Qual a quantidade de kWh foi consumida? '))\n",
    "\n",
    "\n",
    "if tipo_instalacao == 'r':\n",
    "    if quantidade_consumo <= 500:\n",
    "        print(f'O valor a ser pago é R${quantidade_consumo * 0.40:.2f}')\n",
    "    else:\n",
    "        print(f'O valor a ser pago é R${quantidade_consumo * 0.65:.2f}')\n",
    "elif tipo_instalacao == 'c':\n",
    "    if quantidade_consumo <= 1000:\n",
    "        print(f'O valor a ser pago é R${quantidade_consumo * 0.55:.2f}')\n",
    "    else:\n",
    "        print(f'O valor a ser pago é R${quantidade_consumo * 0.60:.2f}')\n",
    "elif tipo_instalacao == 'i':\n",
    "    if quantidade_consumo <= 5000:\n",
    "        print(f'O valor a ser pago é R${quantidade_consumo * 0.55:.2f}')\n",
    "    else:\n",
    "        print(f'O valor a ser pago é R${quantidade_consumo * 0.60:.2f}')\n",
    "else:\n",
    "    print('Instalação invalida.')"
   ]
  }
 ],
 "metadata": {
  "kernelspec": {
   "display_name": "Python 3",
   "language": "python",
   "name": "python3"
  },
  "language_info": {
   "codemirror_mode": {
    "name": "ipython",
    "version": 3
   },
   "file_extension": ".py",
   "mimetype": "text/x-python",
   "name": "python",
   "nbconvert_exporter": "python",
   "pygments_lexer": "ipython3",
   "version": "undefined.undefined.undefined"
  }
 },
 "nbformat": 4,
 "nbformat_minor": 2
}
