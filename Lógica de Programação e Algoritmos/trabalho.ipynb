{
 "cells": [
  {
   "cell_type": "markdown",
   "metadata": {},
   "source": [
    "# TRABALHO: LÓGICA DE PROGRAMAÇÃO E ALGORITMOS"
   ]
  },
  {
   "cell_type": "markdown",
   "metadata": {},
   "source": [
    "### QUESTÃO 1 de 4"
   ]
  },
  {
   "cell_type": "code",
   "execution_count": 2,
   "metadata": {},
   "outputs": [
    {
     "name": "stdout",
     "output_type": "stream",
     "text": [
      "Bem vindo ao sistema do WANDERSON TEIXEIRA SOUSA\n",
      "Informe o valor base do plano: 134.05\n",
      "Informe a idade do cliente: 34\n",
      "O valor mensal do plano é de: R$ 301.61\n"
     ]
    }
   ],
   "source": [
    "\"\"\"\n",
    "Calcula o valor mensal do plano de acordo com a idade do cliente.\n",
    "\n",
    "Parâmetros:\n",
    "- idade (int): Idade do cliente\n",
    "- valorBase (float): Valor base do plano\n",
    "\n",
    "Retorno:\n",
    "- float: Valor mensal atualizado com base na idade do cliente\n",
    "\"\"\"\n",
    "def valorMensal(idade, valorBase):\n",
    "    if idade >= 0 and idade < 19:\n",
    "        return valorBase\n",
    "    elif idade >= 19 and idade < 29:\n",
    "        return (valorBase * 150) / 100\n",
    "    elif idade >= 29 and idade < 39:\n",
    "        return (valorBase * 225) / 100\n",
    "    elif idade >= 39 and idade < 49:\n",
    "        return (valorBase * 240) / 100\n",
    "    elif idade >= 49 and idade < 59:\n",
    "        return (valorBase * 350) / 100\n",
    "    else:\n",
    "        return (valorBase * 600) / 100\n",
    "\n",
    "# Exibe mensagem de boas-vindas ao sistema\n",
    "print('Bem vindo ao sistema do WANDERSON TEIXEIRA SOUSA')\n",
    "\n",
    "while True:  # Loop para solicitar as entradas até que sejam válidas\n",
    "    try:\n",
    "        valorBase = float(input('Informe o valor base do plano: '))  # Solicita ao usuário o valor base do plano e converte para float\n",
    "        while valorBase < 0:  # Verifica se o valor base é negativo, e solicita novamente caso seja\n",
    "            print('Valor base inválido. O valor deve ser positivo.')\n",
    "            valorBase = float(input('Informe o valor base do plano: '))\n",
    "\n",
    "        idade = int(input('Informe a idade do cliente: '))  # Solicita ao usuário a idade do cliente e converte para inteiro\n",
    "        while idade < 0:  # Verifica se a idade é negativa, e solicita novamente caso seja\n",
    "            print('Idade inválida, digite novamente.')\n",
    "            idade = int(input('Informe a idade do cliente: '))\n",
    "\n",
    "        # Calcula e exibe o valor mensal do plano com base na idade e valor base\n",
    "        print(f'Informe o valor base do plano: {valorBase:.2f}')\n",
    "        print(f'Informe a idade do cliente: {idade}')\n",
    "        print(f'O valor mensal do plano é de: R$ {valorMensal(idade, valorBase):.2f}')\n",
    "        break  # Encerra o loop quando as entradas são válidas\n",
    "\n",
    "    # Captura exceções de entrada inválida e solicita ao usuário que insira valores numéricos\n",
    "    except ValueError:\n",
    "        print('Entrada inválida. Por favor, insira um número válido.')"
   ]
  }
 ],
 "metadata": {
  "kernelspec": {
   "display_name": "Python 3",
   "language": "python",
   "name": "python3"
  },
  "language_info": {
   "codemirror_mode": {
    "name": "ipython",
    "version": 3
   },
   "file_extension": ".py",
   "mimetype": "text/x-python",
   "name": "python",
   "nbconvert_exporter": "python",
   "pygments_lexer": "ipython3",
   "version": "3.12.2"
  }
 },
 "nbformat": 4,
 "nbformat_minor": 2
}
