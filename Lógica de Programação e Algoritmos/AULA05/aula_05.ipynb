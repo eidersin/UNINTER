{
 "cells": [
  {
   "cell_type": "markdown",
   "metadata": {},
   "source": [
    "# AULA 05 - FUNÇÕES"
   ]
  },
  {
   "cell_type": "code",
   "execution_count": null,
   "metadata": {},
   "outputs": [],
   "source": [
    "def sub2 (x, y):\n",
    "    z = x - y\n",
    "    print(z)"
   ]
  },
  {
   "cell_type": "code",
   "execution_count": null,
   "metadata": {},
   "outputs": [],
   "source": [
    "def soma3(x, y, z):\n",
    "    res = x + y + z\n",
    "    print(res)"
   ]
  },
  {
   "cell_type": "code",
   "execution_count": null,
   "metadata": {},
   "outputs": [],
   "source": [
    "def soma3(x = 0, y = 0, z = 0):\n",
    "    res = x + y + z\n",
    "    print(res)"
   ]
  },
  {
   "cell_type": "code",
   "execution_count": null,
   "metadata": {},
   "outputs": [],
   "source": [
    "def soma3(x = 0, y = 0, z = 0):\n",
    "    res = x + y + z\n",
    "    return res\n",
    "\n",
    "print(soma3(2,2))"
   ]
  },
  {
   "cell_type": "code",
   "execution_count": null,
   "metadata": {},
   "outputs": [],
   "source": [
    "retornado1 = soma3(1,2,3)\n",
    "retornado2 = soma3(1,2)\n",
    "retornado3 = soma3()\n",
    "\n",
    "print(retornado1, retornado2, retornado3)"
   ]
  },
  {
   "cell_type": "code",
   "execution_count": null,
   "metadata": {},
   "outputs": [],
   "source": [
    "print(100 / 0)"
   ]
  },
  {
   "cell_type": "code",
   "execution_count": null,
   "metadata": {},
   "outputs": [],
   "source": [
    "x = int(input('Por favor digite um número: '))"
   ]
  },
  {
   "cell_type": "code",
   "execution_count": null,
   "metadata": {},
   "outputs": [],
   "source": [
    "while True:\n",
    "    try:\n",
    "        x = int(input('Por favor digite um número: '))\n",
    "        break\n",
    "    except ValueError:\n",
    "        print('Oops! Número inválido. Tente novamente...')"
   ]
  },
  {
   "cell_type": "code",
   "execution_count": null,
   "metadata": {},
   "outputs": [],
   "source": [
    "i = 0\n",
    "while True:\n",
    "    try:\n",
    "        nome = input('Por favor digite seu nome: ')\n",
    "        ind = int(input('Digite um índice do seu nome digitado: '))\n",
    "        print(nome[ind])\n",
    "        break\n",
    "    except ValueError:\n",
    "        print('Oops! Nome inválido. Tente novamente...')\n",
    "    except IndexError:\n",
    "        print('Oops! índice inválido. Tente novamente...')\n",
    "    finally:\n",
    "        print(f'Tentativa {i}')\n",
    "        i += 1"
   ]
  },
  {
   "cell_type": "code",
   "execution_count": null,
   "metadata": {},
   "outputs": [],
   "source": [
    "def div():\n",
    "    try:\n",
    "        num1 = int(input('Digite o primeiro inteiro: '))\n",
    "        num2 = int(input('Digite o segundo número inteiro: '))\n",
    "        res = num1 / num2\n",
    "    except ZeroDivisionError:\n",
    "        print('Oops! Erro de divisão por zero...')\n",
    "    except ValueError:\n",
    "        print('Oops! Número inválido. Tente novamente...')\n",
    "    except:\n",
    "        print('Algo de errado aconteceu...')\n",
    "    else:\n",
    "        return res\n",
    "    finally:\n",
    "        print('Executará sempre')\n",
    "\n",
    "div()"
   ]
  },
  {
   "cell_type": "code",
   "execution_count": null,
   "metadata": {},
   "outputs": [],
   "source": [
    "resultado = lambda x,y : (x + 5) * y\n",
    "resultado(5,10)"
   ]
  },
  {
   "cell_type": "code",
   "execution_count": null,
   "metadata": {},
   "outputs": [],
   "source": [
    "def tamanho_palavra(palavra, min, max):\n",
    "    s1 = input(palavra)\n",
    "    tamanho_palavra = len(s1)\n",
    "    while tamanho_palavra < min or tamanho_palavra > max:\n",
    "        s1 = input('Digite uma string: ')\n",
    "        tamanho_palavra = len(s1)\n",
    "    return s1\n",
    "\n",
    "x = tamanho_palavra('Digite uma string: ', 10, 30)\n",
    "print(f'Você digitou a string: {x}.\\nDado é valido. Encerrando o programa...')"
   ]
  },
  {
   "cell_type": "code",
   "execution_count": null,
   "metadata": {},
   "outputs": [],
   "source": [
    "def funcao_borda(palavra):\n",
    "    tamanho_palavra = len(palavra)\n",
    "    print('+', tamanho_palavra * '-', '+')\n",
    "    print('|', palavra, '|')\n",
    "    print('+', tamanho_palavra * '-', '+')\n",
    "\n",
    "palavra = input('Escreva uma palavra. ')\n",
    "funcao_borda(palavra)"
   ]
  },
  {
   "cell_type": "markdown",
   "metadata": {},
   "source": [
    "# EXERCÍCIO - Aula Prática 4 - Funções\n"
   ]
  },
  {
   "cell_type": "markdown",
   "metadata": {},
   "source": [
    "#### Exercício 01"
   ]
  },
  {
   "cell_type": "code",
   "execution_count": null,
   "metadata": {},
   "outputs": [],
   "source": [
    "def eh_positivo(numero):\n",
    "    \"\"\"\n",
    "    Função para ver se o número é positivo\n",
    "    \"\"\"\n",
    "    if numero >= 0:\n",
    "        return True\n",
    "    else:\n",
    "        return False\n",
    "    \n",
    "def fatorial(numero):\n",
    "    \"\"\"\n",
    "    Função para calcular a fatorial de um número.\n",
    "    :param numero: Entrada do valor para calcular a fatorial\n",
    "    :return: Retorno do valor da fatorial\n",
    "    \"\"\"\n",
    "    fat = 1\n",
    "    if eh_positivo(numero) == True:\n",
    "        if numero == 0 or numero == 1:\n",
    "            return fat    \n",
    "        for i in range(1, numero + 1, 1):\n",
    "            fat *= i\n",
    "        return fat\n",
    "\n",
    "while True:     \n",
    "    try:\n",
    "        numero = int(input('Digite um valor para calcular a fatorial: '))\n",
    "        if numero >= 0:\n",
    "            print(f'{numero}! = {fatorial(numero)}')\n",
    "            break\n",
    "        else: \n",
    "            print('O Valor deve ser positivo.')\n",
    "    except ValueError:\n",
    "        print('Valor incorreto.')"
   ]
  },
  {
   "cell_type": "markdown",
   "metadata": {},
   "source": [
    "#### Exercício 02"
   ]
  },
  {
   "cell_type": "code",
   "execution_count": null,
   "metadata": {},
   "outputs": [],
   "source": [
    "# FUNÇÕES\n",
    "def menu():\n",
    "    print('MENU')\n",
    "    print('1 - Cadastrar novo item')\n",
    "    print('2 - Listar cadastros')\n",
    "    print('3 - Sair')\n",
    "def valida_int(pergunta, min, max):\n",
    "    x = int(input(pergunta))\n",
    "    while x < min or x > max:\n",
    "        x = int(input(pergunta))\n",
    "    return x\n",
    "\n",
    "\n",
    "# MAIN\n",
    "arquivo = 'games.txt'\n",
    "menu()\n",
    "\n",
    "while True:\n",
    "    try:\n",
    "        item_menu = valida_int('Escolha qual item do menu', 1, 3)\n",
    "        if item_menu == 3:\n",
    "            print(40 * '#' + '\\n')\n",
    "            print('Finalizando sistema...')\n",
    "            break\n",
    "        elif item_menu == 1:\n",
    "            print(40 * '#' + '\\n')\n",
    "            print('Cadastrar novo item')\n",
    "        elif item_menu == 2:\n",
    "            print(40 * '#' + '\\n')\n",
    "            print('Lista de cadastros')\n",
    "    except ValueError:\n",
    "        print('Valor invalido.')"
   ]
  }
 ],
 "metadata": {
  "kernelspec": {
   "display_name": "Python 3",
   "language": "python",
   "name": "python3"
  },
  "language_info": {
   "codemirror_mode": {
    "name": "ipython",
    "version": 3
   },
   "file_extension": ".py",
   "mimetype": "text/x-python",
   "name": "python",
   "nbconvert_exporter": "python",
   "pygments_lexer": "ipython3",
   "version": "3.12.2"
  }
 },
 "nbformat": 4,
 "nbformat_minor": 2
}
