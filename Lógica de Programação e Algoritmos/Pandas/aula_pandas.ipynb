{
 "cells": [
  {
   "cell_type": "markdown",
   "metadata": {},
   "source": [
    "## Acesso aos dados"
   ]
  },
  {
   "cell_type": "code",
   "execution_count": 2,
   "metadata": {},
   "outputs": [],
   "source": [
    "# Imports\n",
    "import pandas as pd\n",
    "df = pd.read_csv('pokemon_data.csv')"
   ]
  },
  {
   "cell_type": "code",
   "execution_count": null,
   "metadata": {},
   "outputs": [],
   "source": [
    "# Acessando nome das colunas\n",
    "print(df.columns)"
   ]
  },
  {
   "cell_type": "code",
   "execution_count": null,
   "metadata": {},
   "outputs": [],
   "source": [
    "# Acessando nome dos 5 primeiros\n",
    "display(df.head(6))"
   ]
  },
  {
   "cell_type": "code",
   "execution_count": null,
   "metadata": {},
   "outputs": [],
   "source": [
    "# Acessando nome dos 5 ultimos\n",
    "display(df.tail(5))"
   ]
  },
  {
   "cell_type": "code",
   "execution_count": null,
   "metadata": {},
   "outputs": [],
   "source": [
    "# Acessando colunas individuais\n",
    "display(df['Nome'])"
   ]
  },
  {
   "cell_type": "code",
   "execution_count": null,
   "metadata": {},
   "outputs": [],
   "source": [
    "# Acessando mais colunas individuais\n",
    "display(df[['Nome', 'Tipo 1', 'Tipo 2']])"
   ]
  },
  {
   "cell_type": "code",
   "execution_count": null,
   "metadata": {},
   "outputs": [],
   "source": [
    "# Acessando colunas com quantidade de dados\n",
    "display(df[['Nome', 'Tipo 1', 'Tipo 2']][5:10])"
   ]
  },
  {
   "cell_type": "code",
   "execution_count": null,
   "metadata": {},
   "outputs": [],
   "source": [
    "# Acessando linhas individuais\n",
    "display(df.iloc[0:5])"
   ]
  },
  {
   "cell_type": "code",
   "execution_count": null,
   "metadata": {},
   "outputs": [],
   "source": [
    "# Acessando linhas e colunas individuais\n",
    "display(df.iloc[2, 1])"
   ]
  },
  {
   "cell_type": "code",
   "execution_count": null,
   "metadata": {},
   "outputs": [],
   "source": [
    "# Busca pela coluna por 1 valor\n",
    "df.loc[df['Tipo 1'] == 'Fogo'][:5]"
   ]
  },
  {
   "cell_type": "code",
   "execution_count": null,
   "metadata": {},
   "outputs": [],
   "source": [
    "# Busca pela coluna por 2 valor\n",
    "display(df.loc[(df['Tipo 1'] == 'Fogo') & (df['Tipo 2'] == 'Voador')])\n"
   ]
  },
  {
   "cell_type": "code",
   "execution_count": null,
   "metadata": {},
   "outputs": [],
   "source": [
    "# Acessando linhas por nome\n",
    "for indice, linha in df.iterrows():\n",
    "    print(indice, linha['Nome'])\n",
    "    if linha['#'] == 150:\n",
    "        break"
   ]
  },
  {
   "cell_type": "code",
   "execution_count": null,
   "metadata": {},
   "outputs": [],
   "source": [
    "# Valores estatístico básicos\n",
    "display(df.describe())"
   ]
  },
  {
   "cell_type": "markdown",
   "metadata": {},
   "source": [
    "## Ordenação"
   ]
  },
  {
   "cell_type": "code",
   "execution_count": 5,
   "metadata": {},
   "outputs": [],
   "source": [
    "# Imports\n",
    "import pandas as pd\n",
    "df = pd.read_csv('pokemon_data.csv')"
   ]
  },
  {
   "cell_type": "code",
   "execution_count": null,
   "metadata": {},
   "outputs": [],
   "source": [
    "df_ordenado = df.sort_values('Tipo 1', ascending=True)\n",
    "display(df_ordenado)"
   ]
  },
  {
   "cell_type": "markdown",
   "metadata": {},
   "source": [
    "## Realizando Mudanças nos dados\n"
   ]
  },
  {
   "cell_type": "code",
   "execution_count": null,
   "metadata": {},
   "outputs": [],
   "source": [
    "# Imports\n",
    "import pandas as pd\n",
    "df = pd.read_csv('pokemon_data.csv')\n",
    "display(df)"
   ]
  },
  {
   "cell_type": "code",
   "execution_count": null,
   "metadata": {},
   "outputs": [],
   "source": [
    "df['Total'] = df['Vida'] + df['Ataque'] + df['Defensa'] + df['Atq Esp'] + df['Def Esp'] + df['Velocidade']\n",
    "df"
   ]
  },
  {
   "cell_type": "code",
   "execution_count": null,
   "metadata": {},
   "outputs": [],
   "source": [
    "df = df.drop(columns=['Total'])\n",
    "df"
   ]
  },
  {
   "cell_type": "code",
   "execution_count": null,
   "metadata": {},
   "outputs": [],
   "source": [
    "# Forma alternativa para criar coluna total\n",
    "df['Total'] = df.iloc[:,4:10].sum(axis=1)\n",
    "display(df)"
   ]
  },
  {
   "cell_type": "code",
   "execution_count": null,
   "metadata": {},
   "outputs": [],
   "source": [
    "# Renomeando\n",
    "df.rename({'Defensa':'Defesa'}, axis=1, inplace=True)\n",
    "df"
   ]
  },
  {
   "cell_type": "code",
   "execution_count": null,
   "metadata": {},
   "outputs": [],
   "source": [
    "# Reordenar colunas\n",
    "cols = list(df.columns.values)\n",
    "df = df [cols[0:4] + [cols[-1]] + cols[5:12]]\n",
    "display(df)"
   ]
  },
  {
   "cell_type": "markdown",
   "metadata": {},
   "source": [
    "## Salvar arquivos"
   ]
  },
  {
   "cell_type": "code",
   "execution_count": 58,
   "metadata": {},
   "outputs": [],
   "source": [
    "# Salvar arquivos\n",
    "# df.to_csv('Novo_CSV.csv')\n",
    "df.to_csv('Novo_CSV.csv', index=False, sep=';')\n",
    "# df.to_csv('Novo_CSV.txt', index=False, sep='\\t')"
   ]
  },
  {
   "cell_type": "markdown",
   "metadata": {},
   "source": [
    "## Filtrando dados"
   ]
  },
  {
   "cell_type": "code",
   "execution_count": null,
   "metadata": {},
   "outputs": [],
   "source": [
    "# Imports\n",
    "import pandas as pd\n",
    "df = pd.read_csv('pokemon_data.csv')\n",
    "display(df)"
   ]
  },
  {
   "cell_type": "code",
   "execution_count": null,
   "metadata": {},
   "outputs": [],
   "source": [
    "# & == AND\n",
    "novo_df = df.loc[(df['Tipo 1'] == 'Fogo') & (df['Tipo 2'] == 'Agua')]\n",
    "novo_df"
   ]
  },
  {
   "cell_type": "code",
   "execution_count": null,
   "metadata": {},
   "outputs": [],
   "source": [
    "# | == OR\n",
    "novo_df = df.loc[(df['Tipo 1'] == 'Fogo') | (df['Tipo 1'] == 'Agua')]\n",
    "novo_df.reset_index(drop=True, inplace=True)\n",
    "novo_df"
   ]
  },
  {
   "cell_type": "code",
   "execution_count": null,
   "metadata": {},
   "outputs": [],
   "source": [
    "# Filtrando pelo 'MEGA'\n",
    "# ~ == ! NOT \n",
    "df_mega = df.loc[~df['Nome'].str.contains('Mega ')]\n",
    "df_mega.reset_index(drop=True, inplace=True)\n",
    "df_mega"
   ]
  },
  {
   "cell_type": "code",
   "execution_count": null,
   "metadata": {},
   "outputs": [],
   "source": [
    "import re\n",
    "# EXPRESSÕES REGULARES\n",
    "novo_df = df.loc[df['Tipo 1'].str.contains('fogo|agua', flags=re.I, regex=True)]\n",
    "novo_df"
   ]
  },
  {
   "cell_type": "code",
   "execution_count": null,
   "metadata": {},
   "outputs": [],
   "source": [
    "# EXPRESSÕES REGULARES\n",
    "novo_df = df.loc[df['Tipo 1'].str.contains('agua|fire', flags=re.I, regex=True) & (df['Tipo 2'] == 'Agua')]\n",
    "novo_df"
   ]
  },
  {
   "cell_type": "code",
   "execution_count": null,
   "metadata": {},
   "outputs": [],
   "source": [
    "# Para filtrar com pi no COMEÇO usa ^pi\n",
    "pi_df = df.loc[df['Nome'].str.contains('^pi', flags=re.I, regex=True)]\n",
    "pi_df"
   ]
  },
  {
   "cell_type": "code",
   "execution_count": null,
   "metadata": {},
   "outputs": [],
   "source": [
    "# Para filtrar com pi no FINAL usa pi$\n",
    "pi_df = df.loc[df['Nome'].str.contains('pi$', flags=re.I, regex=True)]\n",
    "pi_df"
   ]
  },
  {
   "cell_type": "markdown",
   "metadata": {},
   "source": [
    "## Mudanças condicionais"
   ]
  },
  {
   "cell_type": "code",
   "execution_count": null,
   "metadata": {},
   "outputs": [],
   "source": [
    "# df.loc[df['Tipo 1'] == 'Fogo', 'QUAL COLUNA QUER MUDAR??'] = 'QUAL NOVO VALOR??'\n",
    "df.loc[df['Tipo 1'] == 'Fogo', 'Tipo 1'] = 'Fire'\n",
    "df"
   ]
  },
  {
   "cell_type": "code",
   "execution_count": 65,
   "metadata": {},
   "outputs": [],
   "source": [
    "# df.loc[df['Tipo 1'] == 'Fogo', 'QUAL COLUNA QUER MUDAR??'] = 'QUAL NOVO VALOR??'\n",
    "df.loc[df['Total'] > 500, 'Lendario'] = 'True'\n"
   ]
  },
  {
   "cell_type": "code",
   "execution_count": null,
   "metadata": {},
   "outputs": [],
   "source": [
    "novo_df = df.copy()\n",
    "\n",
    "# df.loc[df['Tipo 1'] == 'Fogo', 'QUAL COLUNA QUER MUDAR??'] = 'QUAL NOVO VALOR??'\n",
    "novo_df.loc[novo_df['Tipo 1'] == 'Agua', 'Tipo 1'] = 'Water'"
   ]
  },
  {
   "cell_type": "code",
   "execution_count": null,
   "metadata": {},
   "outputs": [],
   "source": [
    "# df.loc[df['Tipo 1'] == 'Fogo', 'QUAL COLUNA QUER MUDAR??'] = 'QUAL NOVO VALOR??'\n",
    "novo_df.loc[novo_df['Velocidade'] > 70, ['Lendario', 'Geracao']] = ['Teste 1', '3']\n",
    "novo_df"
   ]
  },
  {
   "cell_type": "markdown",
   "metadata": {},
   "source": [
    "## Estatisticas agrupadas (Groupby)"
   ]
  },
  {
   "cell_type": "code",
   "execution_count": null,
   "metadata": {},
   "outputs": [],
   "source": [
    "import pandas as pd\n",
    "df = pd.read_csv('pokemon_data.csv')\n",
    "df"
   ]
  },
  {
   "cell_type": "code",
   "execution_count": null,
   "metadata": {},
   "outputs": [],
   "source": [
    "df.groupby(['Tipo 1']).mean(' ').sort_values('Lendario', ascending=False)"
   ]
  },
  {
   "cell_type": "code",
   "execution_count": null,
   "metadata": {},
   "outputs": [],
   "source": [
    "df['contador'] = 1\n",
    "display(df.groupby(['Tipo 1', 'Tipo 2']).count()['contador'])\n"
   ]
  },
  {
   "cell_type": "markdown",
   "metadata": {},
   "source": [
    "## Blocos de memória"
   ]
  },
  {
   "cell_type": "code",
   "execution_count": null,
   "metadata": {},
   "outputs": [],
   "source": [
    "# Carregar linhas de 5 em 5\n",
    "for df in pd.read_csv('pokemon_original.csv', chunksize=5):\n",
    "    print(df)"
   ]
  },
  {
   "cell_type": "markdown",
   "metadata": {},
   "source": [
    "## Plotagem de dados"
   ]
  },
  {
   "cell_type": "code",
   "execution_count": 4,
   "metadata": {},
   "outputs": [],
   "source": [
    "import pandas as pd\n",
    "import matplotlib.pyplot as plt\n",
    "df = pd.read_csv('pokemon_original.csv')"
   ]
  },
  {
   "cell_type": "code",
   "execution_count": 32,
   "metadata": {},
   "outputs": [
    {
     "data": {
      "text/plain": [
       "<function matplotlib.pyplot.show(close=None, block=None)>"
      ]
     },
     "execution_count": 32,
     "metadata": {},
     "output_type": "execute_result"
    },
    {
     "data": {
      "image/png": "[encoded data removed]",
      "text/plain": [
       "<Figure size 640x480 with 1 Axes>"
      ]
     },
     "metadata": {},
     "output_type": "display_data"
    }
   ],
   "source": [
    "# Histograma\n",
    "atributo = 'Ataque'\n",
    "plt.title('Distribuição dos pokemons por ' + atributo)\n",
    "plt.xlabel('Valor do atributo ' + atributo)\n",
    "plt.ylabel('Quantidade de pokemons')\n",
    "\n",
    "bins = range(0,201,20)\n",
    "plt.xticks(bins)\n",
    "\n",
    "plt.hist(df[atributo],bins=bins)\n",
    "plt.show"
   ]
  },
  {
   "cell_type": "code",
   "execution_count": 66,
   "metadata": {},
   "outputs": [
    {
     "data": {
      "image/png": "[encoded data removed]",
      "text/plain": [
       "<Figure size 1400x400 with 1 Axes>"
      ]
     },
     "metadata": {},
     "output_type": "display_data"
    }
   ],
   "source": [
    "# Barra vertical\n",
    "\n",
    "atributo = 'Defesa'\n",
    "tipos = df.groupby('Tipo 1').mean(' ').sort_values(atributo, ascending=False)\n",
    "linha = tipos.index.tolist()\n",
    "coluna = tipos[atributo].tolist()\n",
    "\n",
    "figura = plt.figure(figsize=(14, 4)).add_axes([0,0,1,1])\n",
    "figura.bar(linha, coluna)\n",
    "\n",
    "plt.xlabel('Tipos de pokemons.')\n",
    "plt.ylabel(f'Valor médio do atributo {atributo}')\n",
    "plt.title(f'Valor médio do atributo {atributo} por tipo de pokemons')\n",
    "\n",
    "for i, v in enumerate(coluna):\n",
    "    plt.annotate(f'{v:.2f}', (i-0.3,v+1))\n",
    "\n",
    "plt.show()"
   ]
  }
 ],
 "metadata": {
  "kernelspec": {
   "display_name": "Python 3",
   "language": "python",
   "name": "python3"
  },
  "language_info": {
   "codemirror_mode": {
    "name": "ipython",
    "version": 3
   },
   "file_extension": ".py",
   "mimetype": "text/x-python",
   "name": "python",
   "nbconvert_exporter": "python",
   "pygments_lexer": "ipython3",
   "version": "3.12.2"
  }
 },
 "nbformat": 4,
 "nbformat_minor": 2
}
