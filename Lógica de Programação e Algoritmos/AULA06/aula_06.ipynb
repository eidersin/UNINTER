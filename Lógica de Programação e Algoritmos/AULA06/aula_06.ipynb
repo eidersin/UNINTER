{
 "cells": [
  {
   "cell_type": "markdown",
   "metadata": {},
   "source": [
    "#### TUPLA"
   ]
  },
  {
   "cell_type": "code",
   "execution_count": null,
   "metadata": {},
   "outputs": [],
   "source": [
    "mochila = ('Machado', 'Camisa', 'Bacon', 'Abacate')\n",
    "print(mochila)\n",
    "print(mochila[0])\n",
    "print(mochila[1])\n",
    "print(mochila[2])\n",
    "print(mochila[3])"
   ]
  },
  {
   "cell_type": "code",
   "execution_count": null,
   "metadata": {},
   "outputs": [],
   "source": [
    "for i in mochila:\n",
    "    print(i)"
   ]
  },
  {
   "cell_type": "markdown",
   "metadata": {},
   "source": [
    "##### Desempacotamento de parâmetros em funções"
   ]
  },
  {
   "cell_type": "code",
   "execution_count": null,
   "metadata": {},
   "outputs": [],
   "source": [
    "def soma(*num):\n",
    "    acumulador = 0\n",
    "    print(f'Tupla: {num}')\n",
    "    for i in num:\n",
    "        acumulador += i\n",
    "    return acumulador\n",
    "\n",
    "print(f'Resultado: {soma(1,2)}\\n')\n",
    "print(f'Resultado: {soma(1,2,3,4,5,6,7,8,9)}')"
   ]
  },
  {
   "cell_type": "markdown",
   "metadata": {},
   "source": [
    "#### LISTAS\n"
   ]
  },
  {
   "cell_type": "code",
   "execution_count": null,
   "metadata": {},
   "outputs": [],
   "source": [
    "mochila = ['Machado', 'Camisa', 'Bacon', 'Abacate']\n",
    "print(f'Lista: {mochila}')\n",
    "\n",
    "mochila[2] = 'Laranja'\n",
    "print(f'Lista: {mochila}')"
   ]
  },
  {
   "cell_type": "markdown",
   "metadata": {},
   "source": [
    "##### Manipulando listas"
   ]
  },
  {
   "cell_type": "code",
   "execution_count": null,
   "metadata": {},
   "outputs": [],
   "source": [
    "mochila.append('Ovos') # Adiciona no final da lista\n",
    "print(f'Lista: {mochila}')"
   ]
  },
  {
   "cell_type": "code",
   "execution_count": null,
   "metadata": {},
   "outputs": [],
   "source": [
    "mochila.insert(1,'Canivete') # Insere na posição informada\n",
    "print(f'Lista: {mochila}')"
   ]
  },
  {
   "cell_type": "code",
   "execution_count": null,
   "metadata": {},
   "outputs": [],
   "source": [
    "del mochila[1] # Deleta do índice informado\n",
    "print(f'Lista: {mochila}')"
   ]
  },
  {
   "cell_type": "code",
   "execution_count": null,
   "metadata": {},
   "outputs": [],
   "source": [
    "mochila.remove('Ovos')\n",
    "print(f'Lista: {mochila}')"
   ]
  },
  {
   "cell_type": "markdown",
   "metadata": {},
   "source": [
    "##### Cópia de listas"
   ]
  },
  {
   "cell_type": "code",
   "execution_count": null,
   "metadata": {},
   "outputs": [],
   "source": [
    "# mesma referência\n",
    "lista_original = [5, 7, 9, 11]\n",
    "lista_referenciada = lista_original\n",
    "\n",
    "print(lista_original)\n",
    "print(lista_referenciada)"
   ]
  },
  {
   "cell_type": "code",
   "execution_count": null,
   "metadata": {},
   "outputs": [],
   "source": [
    "lista_referenciada[0] = 2\n",
    "\n",
    "print(lista_original)\n",
    "print(lista_referenciada)"
   ]
  },
  {
   "cell_type": "code",
   "execution_count": null,
   "metadata": {},
   "outputs": [],
   "source": [
    "# cópia\n",
    "lista_original = [5, 7, 9, 11]\n",
    "lista_referenciada = lista_original[:]\n",
    "\n",
    "print(lista_original)\n",
    "print(lista_referenciada)"
   ]
  },
  {
   "cell_type": "code",
   "execution_count": null,
   "metadata": {},
   "outputs": [],
   "source": [
    "lista_referenciada[0] = 2\n",
    "\n",
    "print(lista_original)\n",
    "print(lista_referenciada)"
   ]
  },
  {
   "cell_type": "markdown",
   "metadata": {},
   "source": [
    "##### String e listas dentro de listas"
   ]
  },
  {
   "cell_type": "code",
   "execution_count": null,
   "metadata": {},
   "outputs": [],
   "source": [
    "mochila = ['Machado', 'Camisa', 'Bacon', 'Abacate']\n",
    "for i in mochila:\n",
    "    for c in i:\n",
    "        print(c, end='')\n",
    "    print()"
   ]
  },
  {
   "cell_type": "markdown",
   "metadata": {},
   "source": [
    "##### Listas dentro de Listas"
   ]
  },
  {
   "cell_type": "code",
   "execution_count": null,
   "metadata": {},
   "outputs": [],
   "source": [
    "mochila = [['Cebola', 0.39], ['Tomate', 0.49], 'Maçã', 0.89]\n",
    "\n",
    "print(mochila)\n",
    "print(mochila[0])\n",
    "print(mochila[0][0])\n",
    "print(mochila[0][0][0])"
   ]
  },
  {
   "cell_type": "code",
   "execution_count": null,
   "metadata": {},
   "outputs": [],
   "source": [
    "\n",
    "def lista_mercado():\n",
    "    produto = []\n",
    "    mercado = []\n",
    "    for i in range(3):\n",
    "        produto.append(input(f'Qual nome do produto: '))\n",
    "        produto.append(int(input(f'Qual a quantidade: ')))\n",
    "        produto.append(float(input('Qual o valor: ')))\n",
    "        mercado.append(produto[:])\n",
    "        produto.clear()\n",
    "    valor_pagar = (mercado[0][1] *  mercado[0][2]) + (mercado[1][1] *  mercado[1][2]) + (mercado[2][2] *  mercado[2][1])\n",
    "    print('Lista de compras: ')\n",
    "    print('-' * 20)\n",
    "    print('Item | Quantidade | Valor unitário | total do item')\n",
    "    for i in range(0, 3):\n",
    "        print(f'{mercado[i][0]} | {mercado[i][1]} | {mercado[i][2]} | {mercado[i][1] * mercado[i][2]}')\n",
    "    print('-' * 20)\n",
    "    print(f'Valor total a ser pago: R${valor_pagar:.2f}')\n",
    "    return\n",
    "\n",
    "\n",
    "lista_mercado()\n"
   ]
  },
  {
   "cell_type": "markdown",
   "metadata": {},
   "source": [
    "#### DICIONÁRIOS\n",
    "\n"
   ]
  },
  {
   "cell_type": "code",
   "execution_count": null,
   "metadata": {},
   "outputs": [],
   "source": [
    "games = {'nome':'Super Mario', 'desenvolvedora':'Nintendo', 'ano': 1990}"
   ]
  },
  {
   "cell_type": "code",
   "execution_count": null,
   "metadata": {},
   "outputs": [],
   "source": [
    "print(games)\n",
    "print(games['nome'])\n",
    "print(games['desenvolvedora'])\n",
    "print(games['ano'])\n"
   ]
  },
  {
   "cell_type": "code",
   "execution_count": null,
   "metadata": {},
   "outputs": [],
   "source": [
    "print(games.values())\n",
    "print(games.keys())\n",
    "print(games.items())"
   ]
  },
  {
   "cell_type": "code",
   "execution_count": null,
   "metadata": {},
   "outputs": [],
   "source": [
    "for i in games.values():\n",
    "    print(i)\n",
    "\n",
    "print('\\n///////////////////////////////////\\n')\n",
    "\n",
    "for i in games.keys():\n",
    "    print(i)\n",
    "\n",
    "print('\\n///////////////////////////////////\\n')\n",
    "\n",
    "for i in games.items():\n",
    "    print(i)\n",
    "\n",
    "print('\\n///////////////////////////////////\\n')\n",
    "\n",
    "for keys, values in games.items():\n",
    "    print(f'{keys} = {values}')\n",
    "\n"
   ]
  },
  {
   "cell_type": "markdown",
   "metadata": {},
   "source": [
    "##### Listas com dicionários"
   ]
  },
  {
   "cell_type": "code",
   "execution_count": null,
   "metadata": {},
   "outputs": [],
   "source": [
    "games = []\n",
    "games1 = {'nome':'Super Mario',\n",
    "          'plataforma':'Super Nintendo',\n",
    "          'ano':'1990'}\n",
    "\n",
    "games2 = {'nome':'Zelda Ocarina',\n",
    "          'plataforma':'Nintendo 64',\n",
    "          'ano':'1998'}\n",
    "\n",
    "games3 = {'nome':'Pokemon Yellow',\n",
    "          'plataforma':'Game Boy',\n",
    "          'ano':'1999'}\n",
    "games = [games1, games2, games3]\n",
    "\n",
    "for i in games:\n",
    "    print(f'{i}', end='\\n')"
   ]
  },
  {
   "cell_type": "code",
   "execution_count": null,
   "metadata": {},
   "outputs": [],
   "source": [
    "game = {}\n",
    "games = []\n",
    "\n",
    "\n",
    "for i in range(3):\n",
    "    game['nome'] = input('Qual nome do jogo? ')\n",
    "    game['plataforma'] = input('Qual plataforma do jogo? ')\n",
    "    game['ano'] = int(input('Qual ano do jogo? '))\n",
    "    games.append(game.copy())\n",
    "print('-' * 20)\n",
    "\n",
    "\n",
    "\n",
    "for jogos in games:\n",
    "    for key, value in jogos.items():\n",
    "        print(f'O campo {key} tem o valor {value}')"
   ]
  },
  {
   "cell_type": "code",
   "execution_count": null,
   "metadata": {},
   "outputs": [],
   "source": [
    "game = {}\n",
    "games = []\n",
    "\n",
    "\n",
    "for i in range(3):\n",
    "    nome = input('Qual nome do jogo? ')\n",
    "    plataforma = input('Qual plataforma do jogo? ')\n",
    "    ano = int(input('Qual ano do jogo? '))\n",
    "    game = {'nome':nome, 'plataforma':plataforma, 'ano':ano}\n",
    "    games.append(game.copy())\n",
    "print('-' * 20)\n",
    "\n",
    "\n",
    "\n",
    "for jogo in games:\n",
    "    for key, value in jogo.items():\n",
    "        print(f'O campo {key} tem o valor {value}')"
   ]
  },
  {
   "cell_type": "markdown",
   "metadata": {},
   "source": [
    "##### Dicionários com listas"
   ]
  },
  {
   "cell_type": "code",
   "execution_count": null,
   "metadata": {},
   "outputs": [],
   "source": [
    "games = {'nome': ['Super Mario', 'Zelda', 'Pokemon'], \n",
    "          'videogame':['Super Nintendo', 'Nintendo 64', 'Game Boy'],\n",
    "          'ano': [1990,1998,1999]}\n",
    "print(games)"
   ]
  },
  {
   "cell_type": "code",
   "execution_count": null,
   "metadata": {},
   "outputs": [],
   "source": [
    "games = {'nome':[],\n",
    "         'videogame': [],\n",
    "         'ano': []}\n",
    "\n",
    "for i in range(3):\n",
    "    nome = input('Qual o nome do jogo? ')\n",
    "    videogame = input('Para qual video-game ele foi lançado? ')\n",
    "    ano = int(input('Qual o ano de lançamento? '))\n",
    "    games['nome'].append(nome)\n",
    "    games['videogame'].append(videogame)\n",
    "    games['ano'].append(ano)\n",
    "print('-' * 20)\n",
    "print(games)"
   ]
  },
  {
   "cell_type": "markdown",
   "metadata": {},
   "source": [
    "### MÉTODOS EM STRINGS"
   ]
  },
  {
   "cell_type": "code",
   "execution_count": null,
   "metadata": {},
   "outputs": [],
   "source": [
    "\"\"\"\n",
    "- Uma string é imutável\n",
    "- Mas, com listas, podemos alterá-la\n",
    "\"\"\"\n",
    "'/////////////////////////////////////////////////////////////////////////////////////////////////////////'\n",
    "'/////////////////////////////////////////////////////////////////////////////////////////////////////////'\n",
    "\n",
    "\"\"\"\n",
    "Relação de métodos para uso com string\n",
    "Função / método             |       Objetivo\n",
    "startswith                  |Verifica se caracteres existem no início da string \n",
    "endswith                    |Verifica se caracteres existem no final da string \n",
    "lower                       |Converte string para minúscula\n",
    "upper                       |Converte string para maiúscula\n",
    "find                        |Busca a primeira ocorrência de um padrão de caracteres em uma string\n",
    "rfind                       |Idêntico ao find, mas inicia a busca da direita para a esquerda\n",
    "center                      |Centraliza uma string\n",
    "ljust, rjust                |Ajustam uma string com alinhamntos à esquerda ou à direita, respectivamente\n",
    "split                       |Divide uma string\n",
    "replace                     |Substitui caracteres em uma string\n",
    "lstrip, rstrip              |Removem espaços em branco à esquerda ou à direita, respectivamente\n",
    "strip                       |Remove espaços em branco das extremidades\n",
    "\"\"\"\n",
    "\n",
    "'/////////////////////////////////////////////////////////////////////////////////////////////////////////'\n",
    "'/////////////////////////////////////////////////////////////////////////////////////////////////////////'\n",
    "\n",
    "\"\"\"\n",
    "Relação de métodos para validação de dados em strings\n",
    "Função / método             |       Objetivo\n",
    "isalnum                     |Somente letras e números; acentos são aceitos\n",
    "isalpha                     |Somente letras; acentos são aceitos\n",
    "isdigit                     |Somente números\n",
    "isnumeric                   |Somente números, aceita também caracteres matemáticos, como frações\n",
    "isupper                     |Somente caracteres maiúsculos\n",
    "islower                     |Somente caracteres minúsculos\n",
    "isspace                     |Somente espaços, inclui TAB, quebra de linha, retorno etc.\n",
    "isprintable                 |Somente caracteres possíveis de serem impressos na tela\n",
    "\"\"\"\n",
    "\n",
    "'/////////////////////////////////////////////////////////////////////////////////////////////////////////'\n",
    "'/////////////////////////////////////////////////////////////////////////////////////////////////////////'\n"
   ]
  },
  {
   "cell_type": "code",
   "execution_count": null,
   "metadata": {},
   "outputs": [],
   "source": [
    "s1 = 'Algoritmos'\n",
    "s1 = list(s1) # transformado em lista\n",
    "print(s1)\n",
    "\n",
    "print(''.join(s1)) "
   ]
  },
  {
   "cell_type": "markdown",
   "metadata": {},
   "source": [
    "#### Verificando caracteres"
   ]
  },
  {
   "cell_type": "code",
   "execution_count": null,
   "metadata": {},
   "outputs": [],
   "source": [
    "s1 = 'Lógica de Programação e Algoritmos'\n",
    "s1.startswith('Lógica')"
   ]
  },
  {
   "cell_type": "code",
   "execution_count": null,
   "metadata": {},
   "outputs": [],
   "source": [
    "s1 = 'Lógica de Programação e Algoritmos'\n",
    "s1.endswith('Algoritmos')"
   ]
  },
  {
   "cell_type": "code",
   "execution_count": null,
   "metadata": {},
   "outputs": [],
   "source": [
    "s1 = 'Lógica de Programação e Algoritmos'\n",
    "s1.lower().endswith('algoritmos')"
   ]
  },
  {
   "cell_type": "code",
   "execution_count": null,
   "metadata": {},
   "outputs": [],
   "source": [
    "print(s1.upper())\n",
    "print(s1.lower())\n",
    "print(s1.capitalize())"
   ]
  },
  {
   "cell_type": "markdown",
   "metadata": {},
   "source": [
    "#### Contando caracteres"
   ]
  },
  {
   "cell_type": "code",
   "execution_count": null,
   "metadata": {},
   "outputs": [],
   "source": [
    "s1 = 'Lógica de Programação e Algoritmos'\n",
    "print(s1.count('a'))\n",
    "print(s1.lower().count('a'))"
   ]
  },
  {
   "cell_type": "code",
   "execution_count": null,
   "metadata": {},
   "outputs": [],
   "source": [
    "s1 = 'Um mafagafinho, dois mafagafinhos, três mafagafinhos... '\n",
    "s1.lower().count('mafagafinho')"
   ]
  },
  {
   "cell_type": "markdown",
   "metadata": {},
   "source": [
    "#### Quebrando strings"
   ]
  },
  {
   "cell_type": "code",
   "execution_count": null,
   "metadata": {},
   "outputs": [],
   "source": [
    "s1.split(' ')"
   ]
  },
  {
   "cell_type": "markdown",
   "metadata": {},
   "source": [
    "#### Substituindo strings"
   ]
  },
  {
   "cell_type": "code",
   "execution_count": null,
   "metadata": {},
   "outputs": [],
   "source": [
    "print(s1.replace('mafagafinho', 'gatinho'))\n",
    "print(s1.replace('mafagafinho', 'gatinho', 1))"
   ]
  },
  {
   "cell_type": "markdown",
   "metadata": {},
   "source": [
    "#### Validando tipos de dados"
   ]
  },
  {
   "cell_type": "code",
   "execution_count": null,
   "metadata": {},
   "outputs": [],
   "source": [
    "s1 = 'Lógica de Programação e Algoritmos'\n",
    "s2 = '42'"
   ]
  },
  {
   "cell_type": "code",
   "execution_count": null,
   "metadata": {},
   "outputs": [],
   "source": [
    "# Somente letras e números; acentos são aceitos\n",
    "print(s1.isalnum())\n",
    "print(s2.isalnum())"
   ]
  },
  {
   "cell_type": "code",
   "execution_count": 84,
   "metadata": {},
   "outputs": [
    {
     "name": "stdout",
     "output_type": "stream",
     "text": [
      "False\n",
      "False\n",
      "True\n"
     ]
    }
   ],
   "source": [
    "# Somente letras; acentos são aceitos\n",
    "s3 = 'LógicadeProgramaçãoeAlgoritmos'\n",
    "print(s1.isalpha())\n",
    "print(s2.isalpha())\n",
    "print(s3.isalpha())"
   ]
  },
  {
   "cell_type": "code",
   "execution_count": null,
   "metadata": {},
   "outputs": [],
   "source": [
    "# Somente números\n",
    "print(s1.isdigit())\n",
    "print(s2.isdigit())"
   ]
  },
  {
   "cell_type": "code",
   "execution_count": null,
   "metadata": {},
   "outputs": [],
   "source": [
    "# Somente números, aceita também caracteres matemáticos, como frações\n",
    "print(s1.isnumeric())\n",
    "print(s2.isnumeric())"
   ]
  },
  {
   "cell_type": "code",
   "execution_count": null,
   "metadata": {},
   "outputs": [],
   "source": [
    "# Somente caracteres maiúsculos\n",
    "print(s1.isupper())\n",
    "print(s2.isupper())\n"
   ]
  },
  {
   "cell_type": "code",
   "execution_count": null,
   "metadata": {},
   "outputs": [],
   "source": [
    "# Somente caracteres minúsculos\n",
    "print(s1.islower())\n",
    "print(s2.islower())"
   ]
  },
  {
   "cell_type": "code",
   "execution_count": null,
   "metadata": {},
   "outputs": [],
   "source": [
    "# Somente espaços, inclui TAB, quebra de linha, retorno etc.\n",
    "print(s1.isspace())\n",
    "print(s2.isspace())"
   ]
  },
  {
   "cell_type": "code",
   "execution_count": null,
   "metadata": {},
   "outputs": [],
   "source": [
    "# Somente caracteres possíveis de serem impressos na tela\n",
    "print(s1.isprintable())\n",
    "print(s2.isprintable())"
   ]
  }
 ],
 "metadata": {
  "kernelspec": {
   "display_name": "Python 3",
   "language": "python",
   "name": "python3"
  },
  "language_info": {
   "codemirror_mode": {
    "name": "ipython",
    "version": 3
   },
   "file_extension": ".py",
   "mimetype": "text/x-python",
   "name": "python",
   "nbconvert_exporter": "python",
   "pygments_lexer": "ipython3",
   "version": "3.12.2"
  }
 },
 "nbformat": 4,
 "nbformat_minor": 2
}
