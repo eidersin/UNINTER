{
 "cells": [
  {
   "cell_type": "markdown",
   "metadata": {},
   "source": [
    "# ESTRUTURA DE REPETIÇÃO WHILE (ENQUANTO)"
   ]
  },
  {
   "cell_type": "code",
   "execution_count": null,
   "metadata": {},
   "outputs": [],
   "source": [
    "x = 1\n",
    "while x <= 5:\n",
    "    print(x)\n",
    "    x += 1"
   ]
  },
  {
   "cell_type": "markdown",
   "metadata": {},
   "source": [
    " ### Contadores"
   ]
  },
  {
   "cell_type": "code",
   "execution_count": null,
   "metadata": {},
   "outputs": [],
   "source": [
    "inicial = int(input('Qual valor deseja iniciar a contagem? '))\n",
    "final = int(input('Qual valor deseja encerrar a contagem? '))\n",
    "\n",
    "x = inicial\n",
    "while x <= final:\n",
    "    if x % 2 == 0:\n",
    "        print(x)\n",
    "    x +=1"
   ]
  },
  {
   "cell_type": "markdown",
   "metadata": {},
   "source": [
    "### Acumuladores"
   ]
  },
  {
   "cell_type": "code",
   "execution_count": null,
   "metadata": {},
   "outputs": [],
   "source": [
    "soma = 0\n",
    "cont = 1\n",
    "while cont <= 5:\n",
    "    x = float(input(f'Digite a {cont}ª nota: '))\n",
    "    soma += x\n",
    "    cont += 1\n",
    "media = soma / 5\n",
    "print(f'Média final: {media}')"
   ]
  },
  {
   "cell_type": "markdown",
   "metadata": {},
   "source": [
    "### Validando dados de entrada com um loop"
   ]
  },
  {
   "cell_type": "code",
   "execution_count": null,
   "metadata": {},
   "outputs": [],
   "source": [
    "valor = int(input('Digite um valor: '))\n",
    "while valor <= 0:\n",
    "    print(f'O valor {valor} digitado não é um valor valido.')\n",
    "    valor = int(input('Digite um valor valido: '))\n",
    "print(f'Valor digitado foi {valor}. Encerrando o programa...')"
   ]
  },
  {
   "cell_type": "markdown",
   "metadata": {},
   "source": [
    "### Interrompendo um loop com break"
   ]
  },
  {
   "cell_type": "code",
   "execution_count": null,
   "metadata": {},
   "outputs": [],
   "source": [
    "# Sem o break\n",
    "palavra = input('Escreva uma palavra: ').lower()\n",
    "while palavra != 'sair':\n",
    "    print(palavra)\n",
    "    palavra = input('Escreva uma palavra: ').lower()\n",
    "print(f'Você digitou {palavra}. Finalizando o programa...')"
   ]
  },
  {
   "cell_type": "code",
   "execution_count": null,
   "metadata": {},
   "outputs": [],
   "source": [
    "# Com o break\n",
    "print('Digite uma mensagem que irei repetir para você!')\n",
    "print('Para encerrar escreva \"sair\".')\n",
    "while True:\n",
    "    palavra = input('Escreva uma palavra: ').capitalize()\n",
    "    print(palavra)\n",
    "    if palavra == 'Sair':\n",
    "        break\n",
    "print(f'Você digitou {palavra}. Finalizando o programa...')"
   ]
  },
  {
   "cell_type": "markdown",
   "metadata": {},
   "source": [
    "### Voltando ao inicio do laço com continue"
   ]
  },
  {
   "cell_type": "code",
   "execution_count": null,
   "metadata": {},
   "outputs": [],
   "source": [
    "while True:\n",
    "    nome = input('Qual o seu nome? ')\n",
    "    if nome == 'Derson':\n",
    "        continue\n",
    "    senha = input('Qual a sua senha? ')\n",
    "    if senha == 'teste':\n",
    "        break\n",
    "print('Acesso concedido')"
   ]
  },
  {
   "cell_type": "markdown",
   "metadata": {},
   "source": [
    "### Valores \"Truthy\" e \"Falsey\""
   ]
  },
  {
   "cell_type": "code",
   "execution_count": null,
   "metadata": {},
   "outputs": [],
   "source": [
    "nome = '' #Falsey\n",
    "while not nome: # converte Falsey pra Truthy\n",
    "    nome = input('Digite seu nome: ')\n",
    "    \n",
    "valor = int(input('Digite um número qualquer: '))\n",
    "if valor: # Equivalente if valor != 0:\n",
    "    print('Você digitou um valor diferente de zero.')\n",
    "else:\n",
    "    print('Você digitou zero.')\n"
   ]
  },
  {
   "cell_type": "markdown",
   "metadata": {},
   "source": [
    "### Estrutura de repetição FOR"
   ]
  },
  {
   "cell_type": "code",
   "execution_count": null,
   "metadata": {},
   "outputs": [],
   "source": [
    "for i in range(11):\n",
    "    print(i)"
   ]
  },
  {
   "cell_type": "code",
   "execution_count": null,
   "metadata": {},
   "outputs": [],
   "source": [
    "for i in range (10, -1, -1):\n",
    "    print(i)"
   ]
  },
  {
   "cell_type": "markdown",
   "metadata": {},
   "source": [
    "### Varredura de String"
   ]
  },
  {
   "cell_type": "code",
   "execution_count": null,
   "metadata": {},
   "outputs": [],
   "source": [
    "frase = \"Lógica de Programação e Algoritmos\"\n",
    "for c in frase:\n",
    "    print(c, end=\"\")"
   ]
  },
  {
   "cell_type": "code",
   "execution_count": null,
   "metadata": {},
   "outputs": [],
   "source": [
    "frase = \"Lógica de Programação e Algoritmos\"\n",
    "for i in range(0, len(frase), 1):\n",
    "    print(frase[i], end=\"\")"
   ]
  },
  {
   "cell_type": "markdown",
   "metadata": {},
   "source": [
    "### Comparativo while e for"
   ]
  },
  {
   "cell_type": "code",
   "execution_count": null,
   "metadata": {},
   "outputs": [],
   "source": [
    "# while\n",
    "x = 1\n",
    "while x < 6:\n",
    "    print(x)\n",
    "    x += 1"
   ]
  },
  {
   "cell_type": "code",
   "execution_count": null,
   "metadata": {},
   "outputs": [],
   "source": [
    "# for\n",
    "for i in range(1, 6, 1):\n",
    "    print(i)"
   ]
  },
  {
   "cell_type": "code",
   "execution_count": null,
   "metadata": {},
   "outputs": [],
   "source": [
    "# Escreva um algoritmo que calcule a média dos números pares de 1 até 100 (1 e 100 inclusos). Implemente o laço usando for.\n",
    "soma = 0\n",
    "conta_par = 0\n",
    "for i in range(0, 101, 2):\n",
    "    soma += i\n",
    "    conta_par += 1\n",
    "media = soma / conta_par\n",
    "print(media)"
   ]
  },
  {
   "cell_type": "code",
   "execution_count": null,
   "metadata": {},
   "outputs": [],
   "source": [
    "# Escreva um algoritmo em Python que calcule a tabuada de todos os números de 1 até 10, e, para cada número, vamos calcular a tabuada multiplicando-o pelo intervalo de 1 até 10.\n",
    "\n",
    "# MODO 1 WHILE e 1 FOR\n",
    "num = 1\n",
    "while num <= 10:\n",
    "    print(f'Multiplicação de {num}')\n",
    "    for i in range(1, 11):\n",
    "        print(f'{i} x {num} = {num * i}')\n",
    "    print(20 * '#')\n",
    "    print('\\n')\n",
    "    num += 1"
   ]
  },
  {
   "cell_type": "code",
   "execution_count": null,
   "metadata": {},
   "outputs": [],
   "source": [
    "# MODO 2 - Escreva um algoritmo em Python que calcule a tabuada de todos os números de 1 até 10, e, para cada número, vamos calcular a tabuada multiplicando-o pelo intervalo de 1 até 10.\n",
    "\n",
    "# MODO 2 WHILE\n",
    "num = 1\n",
    "while num <= 10:\n",
    "    print(f'Multiplicação de {num}')\n",
    "    i = 1\n",
    "    while i <= 10:\n",
    "        print(f'{i} x {num} = {num * i}')\n",
    "        i = i + 1\n",
    "    print(20 * '#')\n",
    "    print('\\n')\n",
    "    num += 1"
   ]
  },
  {
   "cell_type": "code",
   "execution_count": null,
   "metadata": {},
   "outputs": [],
   "source": [
    "# MODO 3 - Escreva um algoritmo em Python que calcule a tabuada de todos os números de 1 até 10, e, para cada número, vamos calcular a tabuada multiplicando-o pelo intervalo de 1 até 10.\n",
    "\n",
    "# MODO 2 FOR\n",
    "num = 1\n",
    "for num in range(1, 11):\n",
    "    print(f'Multiplicação de {num}')\n",
    "    for i in range(1, 11):\n",
    "        print(f'{i} x {num} = {num * i}')\n",
    "    print(20 * '#')\n",
    "    print('\\n')\n"
   ]
  },
  {
   "cell_type": "markdown",
   "metadata": {},
   "source": [
    "# EXERCÍCIO - Aula Prática 3 - Algoritmos iterativos. Estruturas de repetição"
   ]
  },
  {
   "cell_type": "markdown",
   "metadata": {},
   "source": [
    "### Exercício - 01"
   ]
  },
  {
   "cell_type": "code",
   "execution_count": null,
   "metadata": {},
   "outputs": [],
   "source": [
    "# Escreva um algoritmo que mostra, na tela, quatro produtos a serem comprados em uma lanchonete:\n",
    "coxinha = 0\n",
    "pastel = 0\n",
    "cafe = 0\n",
    "suco = 0\n",
    "soma_total = 0\n",
    "while True:\n",
    "    print(' ESCOLHA UMA OPÇÃO: \\n 1 - Coxinha R$ 5,00\\n 2 - Pastel R$ 7,00\\n 3 - Café R$ 4,00\\n 4 - Suco R$ 6,00\\n 5 - Sair')\n",
    "    escolha = int(input('Qual sua opção? '))\n",
    "    if escolha == 1:\n",
    "        print('Produto escolhido: Coxinha R$ 5,00')\n",
    "        quantidade = int(input(f'Qual a quantidade de Coxinha gostaria de comprar? '))\n",
    "        coxinha += quantidade\n",
    "        print(f'{quantidade} Coxinha colocado na sacola. Subtotal: {float(quantidade * 5):.2f}')\n",
    "        soma_total += (quantidade * 5)\n",
    "    elif escolha == 2:\n",
    "        print('Produto escolhido: Pastel R$ 7,00')\n",
    "        quantidade = int(input(f'Qual a quantidade de Pastel gostaria de comprar? '))\n",
    "        pastel += quantidade\n",
    "        print(f'{quantidade} Pastel colocado na sacola. Subtotal: R${float(quantidade * 7):.2f} ')\n",
    "        soma_total += (quantidade * 7)\n",
    "    elif escolha == 3:\n",
    "        print('Produto escolhido: Café R$ 4,00')\n",
    "        quantidade = int(input(f'Qual a quantidade de Café gostaria de comprar? '))\n",
    "        cafe += quantidade\n",
    "        print(f'{quantidade} Café colocado na sacola. Subtotal: R${float(quantidade * 4):.2f} ')\n",
    "        soma_total += (quantidade * 4)\n",
    "    elif escolha == 4:\n",
    "        print('Produto escolhido: Suco R$ 6,00')\n",
    "        quantidade = int(input(f'Qual a quantidade de Suco gostaria de comprar? '))\n",
    "        suco += quantidade\n",
    "        print(f'{quantidade} Suco colocado na sacola. Subtotal: R${float(quantidade * 6):.2f} ')\n",
    "        soma_total += (quantidade * 6)\n",
    "    elif escolha == 5:\n",
    "        break\n",
    "    else:\n",
    "        print('Escolha invalida')\n",
    "        \n",
    "print('\\n')\n",
    "print('Finalizando calculos ...')\n",
    "print(f'  Total de Coxinha: {coxinha}\\n  Total de Pastel: {pastel}\\n  Total de Café: {cafe}\\n  Total de Suco: {suco}\\n  Valor a ser pago: R${soma_total:.2f}\\n')"
   ]
  },
  {
   "cell_type": "markdown",
   "metadata": {},
   "source": [
    "### Exercício - 02"
   ]
  },
  {
   "cell_type": "code",
   "execution_count": null,
   "metadata": {},
   "outputs": [],
   "source": [
    "# Escreva um algoritmo que leia um valor e que imprima a quantiade de cédulas necessárias para pagar ese mesmo valor.\n",
    "# Para simplificar, vamos trabalhar apenas com valores inteiro e com cédulas de R$ 100, R$ 50, R$ 20, R$ 10, R$ 5 e R$ 1\n",
    "\n",
    "\n",
    "num = int(input('Digite um valor: '))\n",
    "\n",
    "notas_de_cem = 0\n",
    "notas_de_cinquenta = 0\n",
    "notas_de_vinte = 0\n",
    "notas_de_dez = 0\n",
    "notas_de_cinco = 0\n",
    "notas_de_um = 0\n",
    "\n",
    "notas_de_cem = int(num / 100)\n",
    "resto_de_cem = int(num % 100)\n",
    "\n",
    "notas_de_cinquenta = int(resto_de_cem / 50)\n",
    "resto_de_cinquenta = int(resto_de_cem % 50)\n",
    "\n",
    "notas_de_vinte = int(resto_de_cinquenta / 20)\n",
    "resto_de_vinte = int(resto_de_cinquenta % 20)\n",
    "\n",
    "notas_de_dez = int(resto_de_vinte / 10)\n",
    "resto_de_dez = int(resto_de_vinte % 10)\n",
    "\n",
    "notas_de_cinco = int(resto_de_dez / 5)\n",
    "resto_de_cinco = int(resto_de_dez % 5)\n",
    "\n",
    "notas_de_um = resto_de_cinco\n",
    "\n",
    "print(f'Quantidade total de notas de R$ 100 - {notas_de_cem}')\n",
    "print(f'Quantidade total de notas de R$ 50 - {notas_de_cinquenta}')\n",
    "print(f'Quantidade total de notas de R$ 20 - {notas_de_vinte}')\n",
    "print(f'Quantidade total de notas de R$ 10 - {notas_de_dez}')\n",
    "print(f'Quantidade total de notas de R$ 5 - {notas_de_cinco}') \n",
    "print(f'Quantidade total de notas de R$ 1 - {notas_de_um}') "
   ]
  },
  {
   "cell_type": "markdown",
   "metadata": {},
   "source": [
    "### Exercício - 03"
   ]
  },
  {
   "cell_type": "code",
   "execution_count": 95,
   "metadata": {},
   "outputs": [
    {
     "name": "stdout",
     "output_type": "stream",
     "text": [
      "Você tem 2 Anos, seu ingresso é R$0.00\n",
      "Você tem 2 Anos, seu ingresso é R$0.00\n",
      "Você tem 5 Anos, seu ingresso é R$15.00\n",
      "Você tem 6 Anos, seu ingresso é R$15.00\n",
      "Você tem 12 Anos, seu ingresso é R$15.00\n",
      "Você tem 15 Anos, seu ingresso é R$30.00\n",
      "Você tem 16 Anos, seu ingresso é R$30.00\n",
      "Você tem 89 Anos, seu ingresso é R$30.00\n",
      " O total de 8 pessoas.\n",
      " O valor total é de R$ 135.00 Reais.\n",
      " Média de idade das pessoas são de 18 Anos.\n"
     ]
    }
   ],
   "source": [
    "def valor_ingresso(idade):\n",
    "    if idade > 3 and idade <= 12:\n",
    "        return 15\n",
    "    elif idade > 12:\n",
    "        return 30\n",
    "    else:\n",
    "        return 0\n",
    "    \n",
    "total_pessoas = 0\n",
    "valor_total = 0\n",
    "calculo_idade = 0\n",
    "while True:\n",
    "    idade = int(input('Qual sua idade? '))\n",
    "    if idade > 0:\n",
    "        valor_idade = valor_ingresso(idade)\n",
    "        print(f'Você tem {idade} Anos, seu ingresso é R${valor_idade:.2F}')\n",
    "        valor_total += valor_idade\n",
    "        total_pessoas += 1\n",
    "        calculo_idade += idade\n",
    "        media_idade = calculo_idade / total_pessoas\n",
    "    elif idade == 0:\n",
    "        break\n",
    "\n",
    "print(f' O total de {total_pessoas} pessoas.\\n O valor total é de R$ {valor_total:.2f} Reais.\\n Média de idade das pessoas são de {int(media_idade)} Anos.')"
   ]
  }
 ],
 "metadata": {
  "kernelspec": {
   "display_name": "Python 3",
   "language": "python",
   "name": "python3"
  },
  "language_info": {
   "codemirror_mode": {
    "name": "ipython",
    "version": 3
   },
   "file_extension": ".py",
   "mimetype": "text/x-python",
   "name": "python",
   "nbconvert_exporter": "python",
   "pygments_lexer": "ipython3",
   "version": "3.12.2"
  }
 },
 "nbformat": 4,
 "nbformat_minor": 2
}
