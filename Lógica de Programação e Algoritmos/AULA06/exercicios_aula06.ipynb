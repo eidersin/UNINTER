{
 "cells": [
  {
   "cell_type": "markdown",
   "metadata": {},
   "source": [
    "# Aula Prática 5"
   ]
  },
  {
   "cell_type": "code",
   "execution_count": null,
   "metadata": {},
   "outputs": [],
   "source": [
    "# REVISÃO\n",
    "# Dado uma lista contendo as notas de alunos em uma disciplina, escreva uma expressão para:\n",
    "notas = [9, 7, 7, 10, 3, 9, 6, 6, 2]\n",
    "\n",
    "print('A - Encontarar quantos alunos tiraram nota 7')\n",
    "print(f'Quantos alunos tiraram nota 7?  {notas.count(7)} Alunos.')\n",
    "print(50 * '-')\n",
    "\n",
    "print('\\nB - Alterar a última nota para 4')\n",
    "notas = [9, 7, 7, 10, 3, 9, 6, 6, 2]\n",
    "print(f'Notas: {notas}')\n",
    "notas[-1] = 4\n",
    "print(f'Notas alterada: {notas}')\n",
    "print(50 * '-')\n",
    "\n",
    "print('\\nC - Encontrar a maior nota')\n",
    "notas = [9, 7, 7, 10, 3, 9, 6, 6, 2]\n",
    "print(f'A maior nota é: {max(notas)}')\n",
    "print(50 * '-')\n",
    "\n",
    "print('\\nD - Ordenar a lista de notas')\n",
    "notas = [9, 7, 7, 10, 3, 9, 6, 6, 2]\n",
    "print(f'Notas ordenadas: {sorted(notas)}')\n",
    "print(50 * '-')\n",
    "\n",
    "print('\\nE - A média das notas')\n",
    "notas = [9, 7, 7, 10, 3, 9, 6, 6, 2]\n",
    "print(f'A média das notas é: {sum(notas) / len(notas):.2f}')\n",
    "print(50 * '-')"
   ]
  },
  {
   "cell_type": "markdown",
   "metadata": {},
   "source": [
    "### Exercício 01"
   ]
  },
  {
   "cell_type": "code",
   "execution_count": null,
   "metadata": {},
   "outputs": [],
   "source": [
    "# Escreva um algoritmo que crie uma tupla com 10 palavras. \n",
    "palavras = (\"Python\", \"Algoritmo\", \"inteligência\", \"artificial\", \"dados\", \n",
    "            \"aprendizado\", \"máquina\", \"ciência\", \"programação\", \"automação\")\n",
    "\n",
    "# Encontre dentro dessa tupla as vogais de cada palavra. \n",
    "for palavra in palavras:\n",
    "    print(f'Palavra: {palavra.upper()}. Vogais:')\n",
    "    for c in palavra:\n",
    "        if c.lower() in 'aeiouáéíóúâêîôûàèìòùãõ':\n",
    "            print(c, end=' ')\n",
    "    print('\\n')\n",
    "\n",
    "\n",
    "# Faça um print na tela com o nome da palavra e suas respectivas vogais.\n"
   ]
  },
  {
   "cell_type": "markdown",
   "metadata": {},
   "source": [
    "### Exercício 02"
   ]
  },
  {
   "cell_type": "code",
   "execution_count": 204,
   "metadata": {},
   "outputs": [
    {
     "name": "stdout",
     "output_type": "stream",
     "text": [
      "------------------------\n",
      "-- JOKENPÔ DO DERSIIN --\n",
      "------------------------\n",
      "--------- MENU ---------\n",
      "------------------------\n",
      "-   Escolha uma opção  - \n",
      " 1 - Pedra\n",
      " 2 - Papel\n",
      " 3 - Tesoura\n",
      " 0 - SAIR\n",
      "------------------------\n",
      "Parabéns você ganhou.\n",
      "------------------------\n",
      "Parabéns você ganhou.\n",
      "------------------------\n",
      "Parabéns você ganhou.\n",
      "------------------------\n",
      "Parabéns você ganhou.\n",
      "------------------------\n",
      "Parabéns você ganhou.\n",
      "------------------------\n",
      "Parabéns você ganhou.\n",
      "------------------------\n",
      "Finalizando jogo...\n",
      "------------------------\n",
      " Resultado final: JOGADOR 6 x 0 COMPUTADOR\n",
      " Resultado final: !!! PARABÉNS VOCÊ GANHOU !!!\n",
      " Resultado final: TOTAL DE VITÓRIAS: 6\n"
     ]
    }
   ],
   "source": [
    "\"\"\" \n",
    "Crie um jogo de pedra, papel ou tesoura (Jokenpô).\n",
    "Você deverá jogar contra o computador. \n",
    "Você irá sempre escolher uma das opções: 1- Pedra, 2- Papel, 3- Tesoura. \n",
    "Armazene todos os resultados em uma lista e, no final, apresente o vencedor.\n",
    "Encerre o programa ao digitar zero\n",
    "\"\"\"\n",
    "import random\n",
    "\n",
    "\n",
    "def valida_int(pergunta, min, max):\n",
    "    x = int(input(pergunta))\n",
    "    while x < min or x > max:\n",
    "        x = int(input(pergunta))\n",
    "    return x\n",
    "\n",
    "\n",
    "print(24 * '-')\n",
    "print(F'-- JOKENPÔ DO DERSIIN --')\n",
    "print(f'{9 * '-'}------{9 * '-'}')\n",
    "print(f'{9 * '-'} MENU {9 * '-'}')\n",
    "print(f'{9 * '-'}------{9 * '-'}')\n",
    "print('-   Escolha uma opção  - \\n 1 - Pedra\\n 2 - Papel\\n 3 - Tesoura\\n 0 - SAIR')\n",
    "\n",
    "\n",
    "vitorias_computador = 0\n",
    "vitorias_jogador = 0\n",
    "while True:\n",
    "    lista = [1, 2, 3]\n",
    "    escolha_computador = random.choice(lista)\n",
    "    escolha_jogador = valida_int('Qual opção escolhida?: ', 0, 3)\n",
    "\n",
    "    if escolha_jogador == 0:\n",
    "        print(f'{9 * '-'}------{9 * '-'}')\n",
    "        print('Finalizando jogo...')\n",
    "        print(f'{9 * '-'}------{9 * '-'}')\n",
    "        break\n",
    "    elif escolha_computador == 1 and escolha_jogador == 3 or escolha_computador == 2 and escolha_jogador == 1 or escolha_computador == 3 and escolha_jogador == 2:\n",
    "        print(f'{9 * '-'}------{9 * '-'}')\n",
    "        print('A máquina venceu.')\n",
    "        vitorias_computador += 1\n",
    "    else:\n",
    "        print(f'{9 * '-'}------{9 * '-'}')\n",
    "        print('Parabéns você ganhou.')\n",
    "        vitorias_jogador += 1\n",
    "\n",
    "if vitorias_computador > vitorias_jogador:\n",
    "    print(f' Resultado final: COMPUTADOR {vitorias_computador} x {vitorias_jogador} JOGADOR')\n",
    "    print(f' Resultado final: !!! COMPUTADOR GANHOU !!!')\n",
    "    print(f' Resultado final: TOTAL DE VITÓRIAS: {vitorias_computador}')\n",
    "elif vitorias_jogador > vitorias_computador:\n",
    "    print(f' Resultado final: JOGADOR {vitorias_jogador} x {vitorias_computador} COMPUTADOR')\n",
    "    print(f' Resultado final: !!! PARABÉNS VOCÊ GANHOU !!!')\n",
    "    print(f' Resultado final: TOTAL DE VITÓRIAS: {vitorias_jogador}')\n",
    "else:\n",
    "    print(f'{9 * '-'}------{9 * '-'}')\n",
    "    print('O RESULTADO DEU EMPATE')\n",
    "    print(f'{9 * '-'}------{9 * '-'}')\n",
    "    print('VAMOS PARA O MATA-MATA! ÚLTIMO JOGO:')\n",
    "    print('-   Escolha uma opção  - \\n 1 - Pedra\\n 2 - Papel\\n 3 - Tesoura\\n 0 - SAIR')\n",
    "    escolha_jogador = valida_int('Qual opção escolhida?: ', 0, 3)\n",
    "    if escolha_computador == 1 and escolha_jogador == 3 or escolha_computador == 2 and escolha_jogador == 1 or escolha_computador == 3 and escolha_jogador == 2:\n",
    "        print('\\n!! O COMPUTADOR VENCEU !!')\n",
    "    else:\n",
    "        print('\\n!! VOCÊ VENCEU !!')"
   ]
  },
  {
   "cell_type": "markdown",
   "metadata": {},
   "source": [
    "# Aula Prática 6"
   ]
  }
 ],
 "metadata": {
  "kernelspec": {
   "display_name": "Python 3",
   "language": "python",
   "name": "python3"
  },
  "language_info": {
   "codemirror_mode": {
    "name": "ipython",
    "version": 3
   },
   "file_extension": ".py",
   "mimetype": "text/x-python",
   "name": "python",
   "nbconvert_exporter": "python",
   "pygments_lexer": "ipython3",
   "version": "3.12.2"
  }
 },
 "nbformat": 4,
 "nbformat_minor": 2
}
